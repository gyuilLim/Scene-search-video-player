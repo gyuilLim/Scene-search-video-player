{
 "cells": [
  {
   "cell_type": "code",
   "execution_count": 1,
   "metadata": {},
   "outputs": [
    {
     "name": "stderr",
     "output_type": "stream",
     "text": [
      "/home/vision/anaconda3/envs/grad/lib/python3.8/site-packages/tqdm/auto.py:21: TqdmWarning: IProgress not found. Please update jupyter and ipywidgets. See https://ipywidgets.readthedocs.io/en/stable/user_install.html\n",
      "  from .autonotebook import tqdm as notebook_tqdm\n"
     ]
    }
   ],
   "source": [
    "from tqdm import tqdm\n",
    "from transformers import BertModel, BertTokenizer\n",
    "import torch\n",
    "import numpy as np"
   ]
  },
  {
   "cell_type": "code",
   "execution_count": 2,
   "metadata": {},
   "outputs": [],
   "source": [
    "text_list = [\n",
    "        \"a group of people in a gym with a basketball net\",\n",
    "        \"a group of people in a gym with a basketball net\",\n",
    "        \"a girl wearing headphones in a gym room\",\n",
    "        \"a girl in a school uniform with headphones on\",\n",
    "        \"a girl with headphones on in a gym\",\n",
    "        \"a girl in a school uniform with the words'i love you '\",\n",
    "        \"a girl with headphones standing in front of a basketball court\",\n",
    "        \"a person standing in a gym with the words in korean\",\n",
    "        \"a girl in headphones is sitting on a basketball court\",\n",
    "        \"a man in a wheelchair is playing basketball in a gym\",\n",
    "        \"a person in a wheelchair in a gym with the words'i love you'written on it\",\n",
    "        \"a woman in a wheelchair is performing a dance\",\n",
    "        \"a girl in a wheelchair with the words'i love you'written on it\",\n",
    "        \"a person in a wheelchair with headphones on\",\n",
    "        \"a young woman wearing headphones in front of a wall\",\n",
    "        \"a black background with the words in korean and english\",\n",
    "        \"a person in a wheelchair in a gym with other people in the background\",\n",
    "        \"a woman holding a tennis racquet in front of a net\",\n",
    "        \"two young men and a woman in suits talking to each other\",\n",
    "        \"a young man with black hair stares at something\",\n",
    "        \"a young man with black hair and a white shirt\",\n",
    "        \"a young man with black hair is staring into the camera\",\n",
    "        \"a young man with black hair staring at something\",\n",
    "        \"a close up of a person with long hair\",\n",
    "        \"a close up of an asian woman's face\",\n",
    "        \"a close up of a young woman with dark hair\",\n",
    "        \"an asian woman looking down at her cell phone\",\n",
    "        \"an asian woman looks at her cell phone in a scene from the korean drama\",\n",
    "        \"a close up of a woman's face with dark hair\",\n",
    "        \"a young girl sitting in a wheelchair in a gym\",\n",
    "        \"a woman wearing headphones sitting next to a dog\",\n",
    "        \"a woman wearing headphones is petting a dog\",\n",
    "        \"a woman sitting at a table with a dog in front of her\",\n",
    "        \"a person doing a handstand in the air\",\n",
    "        \"a person doing a trick on a skateboard with the sun in the background\",\n",
    "        \"a man doing a handstand in front of the sun\",\n",
    "        \"a man wearing headphones and a brown jacket\",\n",
    "        \"a man with headphones on standing in front of a window\",\n",
    "        \"a woman in a wheel chair with the words this is new normal\",\n",
    "        \"this is new normal - official trailer [ hd ]\",\n",
    "        \"a woman in a wheel chair with the words'the best moments'written on it\",\n",
    "        \"a woman in a white dress is sitting on a chair\",\n",
    "        \"a man sitting on top of a chair in front of a neon sign\",\n",
    "        \"[ single ] this is a natural - i'm a natural\",\n",
    "        \"the korean song is written in korean and english\",\n",
    "        \"the korean poster for the upcoming film,'i'm not afraid to see what you\",\n",
    "        \"a man in a wheel chair with the words'this is what i want to do '\",\n",
    "        \"an advertisement for the korean movie, with a man in a wheel chair\",\n",
    "        \"a man in a wheel chair with the words in korean\",\n",
    "        \"the poster for the korean movie's upcoming film\",\n",
    "        \"a man in a wheel chair with the words in korean\"\n",
    "    ]"
   ]
  },
  {
   "cell_type": "code",
   "execution_count": 3,
   "metadata": {},
   "outputs": [],
   "source": [
    "search_queries = [\n",
    "    \"Search for the scene with a group of people in the gym.\",\n",
    "    \"Find the moment featuring a girl wearing headphones in the gym.\",\n",
    "    \"Locate the scene of a man in a wheelchair playing basketball.\",\n",
    "    \"Retrieve the part where a girl sits on the basketball court.\",\n",
    "    \"Show me the scene with a woman in a wheelchair performing a dance.\",\n",
    "    \"Find the scene where a young man with black hair stares into the camera.\",\n",
    "    \"Display the close-up of a young woman with dark hair.\",\n",
    "    \"Search for the girl in a school uniform with the words 'I love you'.\",\n",
    "    \"Locate the scene of a woman holding a tennis racquet.\",\n",
    "    \"Show me the moment when a person is doing a handstand in the air.\",\n",
    "    \"Retrieve the scene with a young girl sitting in a wheelchair.\",\n",
    "    \"Find the part of a woman petting a dog while wearing headphones.\",\n",
    "    \"Search for the woman in a wheelchair with the words 'this is new normal'.\",\n",
    "    \"Locate the scene of a man wearing headphones standing by a window.\",\n",
    "    \"Show me the moment of a man doing a trick on a skateboard.\",\n",
    "    \"Retrieve the scene with the words 'the best moments' on a wheelchair.\",\n",
    "    \"Search for the young woman looking at her cell phone.\",\n",
    "    \"Display the poster for the upcoming Korean movie.\",\n",
    "    \"Locate the advertisement for the Korean movie with a man in a wheelchair.\",\n",
    "    \"Find the moment when the words 'this is what I want to do' are shown.\"\n",
    "]"
   ]
  },
  {
   "cell_type": "code",
   "execution_count": 4,
   "metadata": {},
   "outputs": [
    {
     "name": "stderr",
     "output_type": "stream",
     "text": [
      "/home/vision/anaconda3/envs/grad/lib/python3.8/site-packages/huggingface_hub/file_download.py:1142: FutureWarning: `resume_download` is deprecated and will be removed in version 1.0.0. Downloads always resume when possible. If you want to force a new download, use `force_download=True`.\n",
      "  warnings.warn(\n",
      "Some weights of the model checkpoint at bert-base-multilingual-cased were not used when initializing BertModel: ['cls.predictions.transform.dense.bias', 'cls.predictions.transform.dense.weight', 'cls.predictions.transform.LayerNorm.bias', 'cls.seq_relationship.bias', 'cls.predictions.transform.LayerNorm.weight', 'cls.seq_relationship.weight', 'cls.predictions.bias']\n",
      "- This IS expected if you are initializing BertModel from the checkpoint of a model trained on another task or with another architecture (e.g. initializing a BertForSequenceClassification model from a BertForPreTraining model).\n",
      "- This IS NOT expected if you are initializing BertModel from the checkpoint of a model that you expect to be exactly identical (initializing a BertForSequenceClassification model from a BertForSequenceClassification model).\n"
     ]
    }
   ],
   "source": [
    "def cos_sim(A, B):\n",
    "    return np.dot(A, B)/(np.linalg.norm(A)*np.linalg.norm(B))\n",
    "\n",
    "\n",
    "model_name = 'bert-base-multilingual-cased'\n",
    "tokenizer = BertTokenizer.from_pretrained(model_name)\n",
    "model = BertModel.from_pretrained(model_name)\n",
    "\n",
    "def sentence_embedding(sentence):\n",
    "    inputs = tokenizer(sentence, return_tensors=\"pt\", padding=True, truncation=True)\n",
    "    with torch.no_grad():\n",
    "        outputs = model(**inputs)\n",
    "    return outputs.last_hidden_state.mean(dim=1).squeeze().numpy()"
   ]
  },
  {
   "cell_type": "code",
   "execution_count": 5,
   "metadata": {},
   "outputs": [
    {
     "name": "stdout",
     "output_type": "stream",
     "text": [
      "Processing for hit_thres = 0.6\n"
     ]
    },
    {
     "name": "stderr",
     "output_type": "stream",
     "text": [
      "100%|██████████| 20/20 [00:02<00:00,  7.26it/s]\n"
     ]
    },
    {
     "name": "stdout",
     "output_type": "stream",
     "text": [
      "Hit Rate :  1.0\n",
      "Processing for hit_thres = 0.7\n"
     ]
    },
    {
     "name": "stderr",
     "output_type": "stream",
     "text": [
      "100%|██████████| 20/20 [00:09<00:00,  2.06it/s]\n"
     ]
    },
    {
     "name": "stdout",
     "output_type": "stream",
     "text": [
      "Hit Rate :  0.85\n",
      "Processing for hit_thres = 0.8\n"
     ]
    },
    {
     "name": "stderr",
     "output_type": "stream",
     "text": [
      "100%|██████████| 20/20 [00:16<00:00,  1.20it/s]"
     ]
    },
    {
     "name": "stdout",
     "output_type": "stream",
     "text": [
      "Hit Rate :  0.1\n"
     ]
    },
    {
     "name": "stderr",
     "output_type": "stream",
     "text": [
      "\n"
     ]
    }
   ],
   "source": [
    "from tqdm import tqdm\n",
    "\n",
    "hit_thresholds = [0.6, 0.7, 0.8]  # 여러 hit_thres 값을 설정\n",
    "\n",
    "for hit_thres in hit_thresholds:  # 각 hit_thres 값에 대해 반복\n",
    "    hit_count = 0  # 각 임계값마다 초기화\n",
    "    print(f\"Processing for hit_thres = {hit_thres}\")\n",
    "    \n",
    "    for query in tqdm(search_queries): \n",
    "        query_embedding = sentence_embedding(query)\n",
    "        sim_list = []\n",
    "        hit = False\n",
    "        for scene_text in text_list:\n",
    "            scene_embedding = sentence_embedding(scene_text)\n",
    "            sim_list.append(cos_sim(query_embedding, scene_embedding))\n",
    "\n",
    "            # Hit    \n",
    "            if any(sim > hit_thres for sim in sim_list):\n",
    "                hit = True\n",
    "                break\n",
    "        \n",
    "        if hit:\n",
    "            hit_count += 1\n",
    "\n",
    "    print(\"Hit Rate : \", hit_count / len(search_queries))"
   ]
  },
  {
   "cell_type": "code",
   "execution_count": null,
   "metadata": {},
   "outputs": [],
   "source": []
  },
  {
   "cell_type": "code",
   "execution_count": null,
   "metadata": {},
   "outputs": [],
   "source": []
  },
  {
   "cell_type": "code",
   "execution_count": null,
   "metadata": {},
   "outputs": [],
   "source": []
  }
 ],
 "metadata": {
  "kernelspec": {
   "display_name": "grad",
   "language": "python",
   "name": "python3"
  },
  "language_info": {
   "codemirror_mode": {
    "name": "ipython",
    "version": 3
   },
   "file_extension": ".py",
   "mimetype": "text/x-python",
   "name": "python",
   "nbconvert_exporter": "python",
   "pygments_lexer": "ipython3",
   "version": "3.8.20"
  }
 },
 "nbformat": 4,
 "nbformat_minor": 2
}
