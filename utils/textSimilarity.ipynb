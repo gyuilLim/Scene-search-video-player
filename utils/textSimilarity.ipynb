{
 "cells": [
  {
   "cell_type": "code",
   "execution_count": 45,
   "metadata": {},
   "outputs": [],
   "source": [
    "import json\n",
    "import requests\n",
    "import numpy as np\n",
    "\n",
    "API_URL = \"https://api-inference.huggingface.co/models/sentence-transformers/all-MiniLM-L6-v2\"\n",
    "api_token = '~~~'\n",
    "headers = {\"Authorization\": f\"Bearer {api_token}\"}\n",
    "\n",
    "def query(payload):\n",
    "    response = requests.post(API_URL, headers=headers, json=payload)\n",
    "    return response.json()\n",
    "\n",
    "def text_similarity(flat_msg_list, prompt) :\n",
    "    if type(prompt) != type([]) :\n",
    "        data = query(\n",
    "            {\n",
    "                \"inputs\": {\n",
    "                    \"source_sentence\": prompt,\n",
    "                    \"sentences\": flat_msg_list\n",
    "                }\n",
    "            })\n",
    "\n",
    "        sorted_idx = np.flip(np.argsort(data))\n",
    "        sorted_data = np.flip(sorted(data))\n",
    "        top_3_idx = [sorted_idx[0]]\n",
    "\n",
    "        count = 0\n",
    "        for idx, value in zip(sorted_idx, sorted_data) :\n",
    "            if value < data[top_3_idx[count]] - 0.15:\n",
    "                top_3_idx.append(idx)\n",
    "                count += 1\n",
    "\n",
    "                if count > 1 :\n",
    "                    break\n",
    "\n",
    "        if len(top_3_idx) != 3 :\n",
    "            top_3_idx = sorted_idx[:3]\n",
    "\n",
    "    else :\n",
    "        top_3_idxs = []\n",
    "        scores = []\n",
    "        for text in prompt :\n",
    "            top_3_idx, score = text_similarity(flat_msg_list, text)\n",
    "            top_3_idxs.append(top_3_idx)\n",
    "            scores.append(score)\n",
    "        return top_3_idxs, scores\n",
    "    \n",
    "    return top_3_idx, sorted_data[0]"
   ]
  },
  {
   "cell_type": "code",
   "execution_count": 46,
   "metadata": {},
   "outputs": [],
   "source": [
    "import json\n",
    "\n",
    "with open('/home/vision/gyuil/project/gradwork/text_search_video_player/static/text_set.json') as file :\n",
    "    data = json.load(file)\n",
    "\n",
    "flat_msg_list = data['text_list']"
   ]
  },
  {
   "cell_type": "code",
   "execution_count": 47,
   "metadata": {},
   "outputs": [],
   "source": [
    "prompt = [\"blood\", \"knife\"]"
   ]
  },
  {
   "cell_type": "code",
   "execution_count": 48,
   "metadata": {},
   "outputs": [],
   "source": [
    "top_3_idx, score = text_similarity(flat_msg_list, prompt)"
   ]
  },
  {
   "cell_type": "code",
   "execution_count": 49,
   "metadata": {},
   "outputs": [
    {
     "data": {
      "text/plain": [
       "[array([18, 21, 20]), [39, 49, 45]]"
      ]
     },
     "execution_count": 49,
     "metadata": {},
     "output_type": "execute_result"
    }
   ],
   "source": [
    "top_3_idx"
   ]
  },
  {
   "cell_type": "code",
   "execution_count": 50,
   "metadata": {},
   "outputs": [
    {
     "data": {
      "text/plain": [
       "[0.1707717925310135, 0.26676511764526367]"
      ]
     },
     "execution_count": 50,
     "metadata": {},
     "output_type": "execute_result"
    }
   ],
   "source": [
    "score"
   ]
  },
  {
   "cell_type": "code",
   "execution_count": null,
   "metadata": {},
   "outputs": [],
   "source": []
  }
 ],
 "metadata": {
  "kernelspec": {
   "display_name": "grad",
   "language": "python",
   "name": "python3"
  },
  "language_info": {
   "codemirror_mode": {
    "name": "ipython",
    "version": 3
   },
   "file_extension": ".py",
   "mimetype": "text/x-python",
   "name": "python",
   "nbconvert_exporter": "python",
   "pygments_lexer": "ipython3",
   "version": "3.8.20"
  }
 },
 "nbformat": 4,
 "nbformat_minor": 2
}
