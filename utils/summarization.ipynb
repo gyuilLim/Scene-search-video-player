{
 "cells": [
  {
   "cell_type": "code",
   "execution_count": 10,
   "metadata": {},
   "outputs": [
    {
     "name": "stderr",
     "output_type": "stream",
     "text": [
      "No model was supplied, defaulted to sshleifer/distilbart-cnn-12-6 and revision a4f8f3e (https://huggingface.co/sshleifer/distilbart-cnn-12-6).\n",
      "Using a pipeline without specifying a model name and revision in production is not recommended.\n",
      "Your max_length is set to 20, but you input_length is only 7. You might consider decreasing max_length manually, e.g. summarizer('...', max_length=3)\n"
     ]
    },
    {
     "name": "stdout",
     "output_type": "stream",
     "text": [
      " I ate a meal today. I ate my meal today, I ate it today.\n"
     ]
    }
   ],
   "source": [
    "from transformers import pipeline\n",
    "\n",
    "# Hugging Face 사전 학습된 요약 모델 불러오기\n",
    "summarizer = pipeline(\"summarization\")\n",
    "\n",
    "# 요약할 텍스트\n",
    "text = \"I ate a meal today\"\n",
    "\n",
    "# 요약 수행\n",
    "summary = summarizer(text, max_length=20, min_length=10, do_sample=False)\n",
    "print(summary[0]['summary_text'])\n"
   ]
  },
  {
   "cell_type": "code",
   "execution_count": 8,
   "metadata": {},
   "outputs": [],
   "source": [
    "import json\n",
    "\n",
    "with open(\"../static/text_set.json\", 'r') as file :\n",
    "    data = json.load(file)"
   ]
  },
  {
   "cell_type": "code",
   "execution_count": 19,
   "metadata": {},
   "outputs": [
    {
     "data": {
      "text/plain": [
       "\"a man and a little boy sitting at a table with plates of food. a man and a little girl sitting at a table with plates of food. a man is walking through a library with books. a man is standing in a library with books. a man in a library reaching for a book. two men working on an old car in a garage. a man in a grey shirt is looking at something. the man is staring at the camera in this scene. a man in a grey shirt looking at something. the man is staring at the camera in this scene. a person standing in front of an open door. a man in jeans and a hoodie is opening a door. a man standing in front of a door with a bag. a man in jeans and a hoodie is opening a door. a man standing in front of a door talking on a cell phone. a man in a suit standing in an office. an image of a soccer goalie making a save. a young man standing in front of a soccer goal. a group of people in blue shirts and black pants. two men in blue shirts and one is yelling. a group of people sitting next to each other in front of a crowd. a group of people in blue shirts and black pants. a group of people in a stadium watching something. a group of people in a stadium with one person holding a cell phone. a group of people in a stadium watching something. a group of men standing next to each other in front of a crowd. a soccer game is being played on the field. a young man in a red shirt and white gloves catching a soccer ball. a soccer goalie is getting ready to kick the ball. a soccer player is standing in front of a goal. a soccer goalie is getting ready to kick the ball. a soccer player standing in front of a goal. two people standing next to each other in a room. a woman in a red dress is dancing with her arms outstretched. a group of people in a room playing music. a man in a blue suit dancing in front of a group of people. a man in a chef's hat preparing food. a man in a chef's hat is cooking food on a stove. a chef stirring a pot of soup in a kitchen. a man in a chef's hat cooking food. a person standing on the sidewalk next to a manhole. a man in a suit and tie holding a cell phone. a man in a suit is putting some ink into a bottle. hp inkjet print ad - inkjet print. hp officejet pro 7710 inkjet adhesive. hp officejet pro 7710 ink cartridge commercial. a man in a suit and tie talking to another man. a man in a suit holding a bottle of toothpaste. a man in a suit and tie is smiling. a man in a suit and tie talking to someone. two men in suits shaking hands in an office. two men in suits are fighting with each other. two men in suits are shaking hands in an office. two men in suits shaking hands in an office. a man in a suit hugging another man in a room. a man is putting ink into a printer with four different colors of ink. a man putting ink into a printer with several different colors. hp deskjet ink advantage 4530 review - hp deskjet ink advantage 4530 review - hp deskjet ink advantage 4530 review - hp desk. hp officejet pro 8600 all - in - one printer. \""
      ]
     },
     "execution_count": 19,
     "metadata": {},
     "output_type": "execute_result"
    }
   ],
   "source": [
    "text_list = data['text_list']\n",
    "\n",
    "texts = ''\n",
    "for line in text_list :\n",
    "    texts += (line + '. ')\n",
    "\n",
    "texts"
   ]
  },
  {
   "cell_type": "code",
   "execution_count": 31,
   "metadata": {},
   "outputs": [
    {
     "name": "stdout",
     "output_type": "stream",
     "text": [
      "a man standing in front of a door with a bag.\n",
      "a man standing in front of a door talking on a cell phone.\n",
      "a man in a suit standing in an office.\n",
      "a group of people sitting next to each other in front of a crowd.\n",
      "a man in a blue suit dancing in front of a group of people.\n"
     ]
    }
   ],
   "source": [
    "import nltk\n",
    "from sumy.parsers.plaintext import PlaintextParser\n",
    "from sumy.nlp.tokenizers import Tokenizer\n",
    "from sumy.summarizers.lex_rank import LexRankSummarizer\n",
    "\n",
    "# 요약할 텍스트 (영어)\n",
    "text = \"\"\"\n",
    "Artificial intelligence is a technology that mimics human intelligence to perform tasks such as learning, reasoning, and problem-solving.\n",
    "In recent years, artificial intelligence has gained significant attention due to advancements in machine learning and deep learning, \n",
    "and it is being applied across various industries. AI plays a crucial role in areas such as autonomous driving, medical diagnosis, \n",
    "recommendation systems, and chatbots. The development of AI is transforming our lives, and its potential is expected to grow even more in the future.\n",
    "\"\"\"\n",
    "\n",
    "# 텍스트를 파싱\n",
    "parser = PlaintextParser.from_string(texts, Tokenizer(\"english\"))\n",
    "\n",
    "# LexRankSummarizer 사용\n",
    "summarizer = LexRankSummarizer()\n",
    "summary = summarizer(parser.document, 5)  # 2개의 문장으로 요약\n",
    "\n",
    "for sentence in summary:\n",
    "    print(sentence)\n"
   ]
  },
  {
   "cell_type": "code",
   "execution_count": 3,
   "metadata": {},
   "outputs": [
    {
     "ename": "OpenAIError",
     "evalue": "The api_key client option must be set either by passing api_key to the client or by setting the OPENAI_API_KEY environment variable",
     "output_type": "error",
     "traceback": [
      "\u001b[0;31m---------------------------------------------------------------------------\u001b[0m",
      "\u001b[0;31mOpenAIError\u001b[0m                               Traceback (most recent call last)",
      "Cell \u001b[0;32mIn[3], line 2\u001b[0m\n\u001b[1;32m      1\u001b[0m \u001b[38;5;28;01mfrom\u001b[39;00m \u001b[38;5;21;01mopenai\u001b[39;00m \u001b[38;5;28;01mimport\u001b[39;00m OpenAI\n\u001b[0;32m----> 2\u001b[0m client \u001b[38;5;241m=\u001b[39m \u001b[43mOpenAI\u001b[49m\u001b[43m(\u001b[49m\u001b[43m)\u001b[49m\n\u001b[1;32m      4\u001b[0m response \u001b[38;5;241m=\u001b[39m client\u001b[38;5;241m.\u001b[39mchat\u001b[38;5;241m.\u001b[39mcompletions\u001b[38;5;241m.\u001b[39mcreate(\n\u001b[1;32m      5\u001b[0m   model\u001b[38;5;241m=\u001b[39m\u001b[38;5;124m\"\u001b[39m\u001b[38;5;124mgpt-4o-mini\u001b[39m\u001b[38;5;124m\"\u001b[39m,\n\u001b[1;32m      6\u001b[0m   messages\u001b[38;5;241m=\u001b[39m[\n\u001b[0;32m   (...)\u001b[0m\n\u001b[1;32m     11\u001b[0m   ]\n\u001b[1;32m     12\u001b[0m )\n",
      "File \u001b[0;32m~/anaconda3/envs/grad/lib/python3.8/site-packages/openai/_client.py:105\u001b[0m, in \u001b[0;36mOpenAI.__init__\u001b[0;34m(self, api_key, organization, project, base_url, timeout, max_retries, default_headers, default_query, http_client, _strict_response_validation)\u001b[0m\n\u001b[1;32m    103\u001b[0m     api_key \u001b[38;5;241m=\u001b[39m os\u001b[38;5;241m.\u001b[39menviron\u001b[38;5;241m.\u001b[39mget(\u001b[38;5;124m\"\u001b[39m\u001b[38;5;124mOPENAI_API_KEY\u001b[39m\u001b[38;5;124m\"\u001b[39m)\n\u001b[1;32m    104\u001b[0m \u001b[38;5;28;01mif\u001b[39;00m api_key \u001b[38;5;129;01mis\u001b[39;00m \u001b[38;5;28;01mNone\u001b[39;00m:\n\u001b[0;32m--> 105\u001b[0m     \u001b[38;5;28;01mraise\u001b[39;00m OpenAIError(\n\u001b[1;32m    106\u001b[0m         \u001b[38;5;124m\"\u001b[39m\u001b[38;5;124mThe api_key client option must be set either by passing api_key to the client or by setting the OPENAI_API_KEY environment variable\u001b[39m\u001b[38;5;124m\"\u001b[39m\n\u001b[1;32m    107\u001b[0m     )\n\u001b[1;32m    108\u001b[0m \u001b[38;5;28mself\u001b[39m\u001b[38;5;241m.\u001b[39mapi_key \u001b[38;5;241m=\u001b[39m api_key\n\u001b[1;32m    110\u001b[0m \u001b[38;5;28;01mif\u001b[39;00m organization \u001b[38;5;129;01mis\u001b[39;00m \u001b[38;5;28;01mNone\u001b[39;00m:\n",
      "\u001b[0;31mOpenAIError\u001b[0m: The api_key client option must be set either by passing api_key to the client or by setting the OPENAI_API_KEY environment variable"
     ]
    }
   ],
   "source": [
    "from openai import OpenAI\n",
    "client = OpenAI()\n",
    "\n",
    "response = client.chat.completions.create(\n",
    "  model=\"gpt-4o-mini\",\n",
    "  messages=[\n",
    "    {\"role\": \"system\", \"content\": \"You are a helpful assistant.\"},\n",
    "    {\"role\": \"user\", \"content\": \"Who won the world series in 2020?\"},\n",
    "    {\"role\": \"assistant\", \"content\": \"The Los Angeles Dodgers won the World Series in 2020.\"},\n",
    "    {\"role\": \"user\", \"content\": \"Where was it played?\"}\n",
    "  ]\n",
    ")"
   ]
  }
 ],
 "metadata": {
  "kernelspec": {
   "display_name": "grad",
   "language": "python",
   "name": "python3"
  },
  "language_info": {
   "codemirror_mode": {
    "name": "ipython",
    "version": 3
   },
   "file_extension": ".py",
   "mimetype": "text/x-python",
   "name": "python",
   "nbconvert_exporter": "python",
   "pygments_lexer": "ipython3",
   "version": "3.8.20"
  }
 },
 "nbformat": 4,
 "nbformat_minor": 2
}
