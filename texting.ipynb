{
 "cells": [
  {
   "cell_type": "code",
   "execution_count": null,
   "metadata": {},
   "outputs": [],
   "source": [
    "import json\n",
    "import cv2\n",
    "import sys\n",
    "\n",
    "from status_manager import processing_status  # 상태 관리 모듈 가져오기\n",
    "from utils.frameMethod import key_frame_detection\n",
    "from utils.dataset import custom_dataset\n",
    "from torch.utils.data import DataLoader\n",
    "from utils.model import load_model\n",
    "from utils.inference import inference"
   ]
  },
  {
   "cell_type": "code",
   "execution_count": null,
   "metadata": {},
   "outputs": [],
   "source": [
    "model_name = 'blip'\n",
    "device = 'cuda'\n",
    "\n",
    "video_path = '/home/vision/gyuil/project/gradwork/text_search_video_player/static/video2.mp4'\n",
    "cap = cv2.VideoCapture(video_path)\n",
    "frame_list, time_line = key_frame_detection(cap, kfe = True)"
   ]
  },
  {
   "cell_type": "code",
   "execution_count": 3,
   "metadata": {},
   "outputs": [],
   "source": [
    "dataset = custom_dataset(frame_list, model_name)\n",
    "dataloader = DataLoader(dataset, batch_size=64)"
   ]
  },
  {
   "cell_type": "code",
   "execution_count": null,
   "metadata": {},
   "outputs": [],
   "source": [
    "from lavis.models import load_model_and_preprocess\n",
    "\n",
    "model, vis_process, _ = load_model_and_preprocess(\n",
    "    name =\"blip2\", model_type=\"pretrain\", is_eval=True, device=device\n",
    ")"
   ]
  },
  {
   "cell_type": "code",
   "execution_count": null,
   "metadata": {},
   "outputs": [],
   "source": [
    "model.eval()\n",
    "text = None\n",
    "max_index, flat_msg_list = inference(model_name, text, model, dataloader, device)"
   ]
  },
  {
   "cell_type": "code",
   "execution_count": null,
   "metadata": {},
   "outputs": [],
   "source": [
    "output_dict = {}\n",
    "output_dict['text_list'] = flat_msg_list\n",
    "output_dict['time_line'] = time_line\n",
    "\n",
    "\n",
    "with open(\"static/text_set.json\", \"w\") as json_file :\n",
    "    json.dump(output_dict, json_file, indent=4)"
   ]
  },
  {
   "cell_type": "code",
   "execution_count": null,
   "metadata": {},
   "outputs": [],
   "source": []
  },
  {
   "cell_type": "code",
   "execution_count": null,
   "metadata": {},
   "outputs": [],
   "source": [
    "for name, param in model.named_parameters() :\n",
    "    print(name)"
   ]
  },
  {
   "cell_type": "code",
   "execution_count": null,
   "metadata": {},
   "outputs": [],
   "source": [
    "\n"
   ]
  },
  {
   "cell_type": "code",
   "execution_count": null,
   "metadata": {},
   "outputs": [],
   "source": []
  }
 ],
 "metadata": {
  "kernelspec": {
   "display_name": "grad",
   "language": "python",
   "name": "python3"
  },
  "language_info": {
   "codemirror_mode": {
    "name": "ipython",
    "version": 3
   },
   "file_extension": ".py",
   "mimetype": "text/x-python",
   "name": "python",
   "nbconvert_exporter": "python",
   "pygments_lexer": "ipython3",
   "version": "3.8.19"
  }
 },
 "nbformat": 4,
 "nbformat_minor": 2
}
